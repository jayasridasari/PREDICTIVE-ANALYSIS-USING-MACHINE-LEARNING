# import libraries
import pandas as pd
import matplotlib.pyplot as plt
import seaborn as sns

from sklearn.model_selection import train_test_split
from sklearn.linear_model import LinearRegression
from sklearn.metrics import mean_squared_error, r2_score

#load dataset
df = pd.read_csv("/content/StudentsPerformance.csv")
df.head()

#Data Preprocessing & Feature Engineering
# Convert categorical to numeric using one-hot encoding
df_encoded = pd.get_dummies(df, drop_first=True)

# Rename columns for ease
df_encoded.columns = df_encoded.columns.str.replace(" ", "_").str.lower()

df_encoded.head()

#Feature Selection
# Target variable: math_score
X = df_encoded.drop("math_score", axis=1)
y = df_encoded["math_score"]

# Correlation heatmap (optional)
plt.figure(figsize=(10, 6))
sns.heatmap(df_encoded.corr(), annot=True, cmap='coolwarm')
plt.title("Feature Correlation")
plt.show()

#model training
X_train, X_test, y_train, y_test = train_test_split(X, y, test_size=0.2, random_state=42)

model = LinearRegression()
model.fit(X_train, y_train)

#Predictions and Evaluation
y_pred = model.predict(X_test)

print("Mean Squared Error:", mean_squared_error(y_test, y_pred))
print("R² Score:", r2_score(y_test, y_pred))

#Visualize Predictions vs Actual
plt.scatter(y_test, y_pred, alpha=0.6)
plt.xlabel("Actual Math Scores")
plt.ylabel("Predicted Math Scores")
plt.title("Actual vs Predicted")
plt.grid(True)
plt.show()
